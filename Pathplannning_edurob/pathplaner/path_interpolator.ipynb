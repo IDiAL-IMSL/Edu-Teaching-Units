{
 "cells": [
  {
   "attachments": {},
   "cell_type": "markdown",
   "id": "9b598202",
   "metadata": {},
   "source": [
    "**Übertragung auf den EduRob**\n",
    "\n",
    "Im nächsten Schritt soll nun eine Pfadinterpolation in Weltkoordinaten berechnet und auf den EduRob übertragen werden. \n",
    "Dafür kann der nachfolgende Code verwendet werden.\n",
    "\n",
    "Der EduRob soll ein Rechteck abfahren. Dazu können die 4 Punkte (A-C) des Rechtecks angegeben werden, die nacheinander angesteuert werden sollen (siehe Abbildung). Dabei soll der EduRob zwischen den Punkten Start und A eine Orientierung von 0° beibehalten, am Punkt B soll rr eine Orientierung von 180° erreichen, welche in den Punkten C und D beibehalten wird.\n",
    "\n",
    "<img src=\"./img/robot_path.png\" style=\"height:500px\" />\n",
    "\n",
    "Die Punkte werden nacheinander angesteuert, wobei der erste Punkt den Startpunkt vorgibt. Die Winkel geben an, welchen Winkel der Roboter an den einzelnen Punkten haben soll. Wechselt der Winkel zwischen zwei Punkten, so interpoliert der Roboter über die Strecke zwischen den Punkten linear die Differenz der beiden Winkel.\n",
    "\n",
    "Damit die Pfadinterpolation auf den Edurob übertragen werden kann werden die Anweisungen als CSV Datei gespeichert, diese kann dann im nächsten Schritt auf den ESP32 des Edurob übertragen werden.\n",
    "\n",
    "Dafür kann die CSV Datei über die nächste Zelle erstellt und zunächst im Dateipfad des Jupyter Notebooks gespeichert werden. In der nachfolgenden Zelle werden dann die Parameter des Pfades angegeben.\n",
    "\n",
    "**1.** Die abzufahrenden **Punkte**, X,Y Koordinaten in Meter\n",
    "\n",
    "**2.** Die **Winkel**, die der Roboter an den einzelnen Punkten haben soll in Grad\n",
    "\n",
    "Daraufhin kann die so enstehende CSV Datei über das Dateisystem von Jupyter Lab herunterladen werden:\n",
    "(Wenn eine lokale Jupyter-Lab Installation genutzt wird, kann die Datei auch einfach über das Dateisystem gesucht und kopiert werden)\n",
    "\n",
    "<img src=\"./img/download_csv.png\" style=\"height:450px\" />\n",
    "\n",
    "Beim Speichern muss ggf. die Dateiendung von **.xls** auf **.csv** angepasst werden:\n",
    "\n",
    "<img src=\"./img/store_csv.png\" style=\"width:900px\" />\n",
    "\n",
    "\n",
    "Das **Hochladen** der Daten auf das File System des ESP32 erfolgt über PlatformIO, siehe [hier](https://randomnerdtutorials.com/esp32-vs-code-platformio-spiffs/) nachgeschaut werden. Daraufhin sollte die soeben erstellte und herunterladene CSV Datei auf den ESP32 übertragen worden sein und es kann das abfahren des Pfads getestet werden.\n",
    "\n",
    "**Im nächsten Schritt vergleichen Sie das Verhalten der verschiedenen\n",
    "Konfigurationen (A, B und C) und geben Sie mögliche Gründe für\n",
    "die Unterschiede an.**"
   ]
  },
  {
   "cell_type": "code",
   "execution_count": 2,
   "id": "44dbdf1b",
   "metadata": {},
   "outputs": [
    {
     "ename": "SyntaxError",
     "evalue": "(unicode error) 'unicodeescape' codec can't decode bytes in position 2-3: truncated \\UXXXXXXXX escape (302634238.py, line 25)",
     "output_type": "error",
     "traceback": [
      "\u001b[1;36m  Cell \u001b[1;32mIn[2], line 25\u001b[1;36m\u001b[0m\n\u001b[1;33m    file = open(\"C:\\Users\\Benutzer 1\\Documents\\PlatformIO\\Projects\\edurob_platformio\\data\\path_planner.csv\", 'w')\u001b[0m\n\u001b[1;37m                                                                                                           ^\u001b[0m\n\u001b[1;31mSyntaxError\u001b[0m\u001b[1;31m:\u001b[0m (unicode error) 'unicodeescape' codec can't decode bytes in position 2-3: truncated \\UXXXXXXXX escape\n"
     ]
    }
   ],
   "source": [
    "from pathInterpolator import *\n",
    "import csv\n",
    "import math\n",
    "###### Parameters to be changed #######\n",
    "\n",
    "points = [[▯.0, ▯.0], [▯.0, ▯.0], [▯.0, ▯.0], [▯.0, ▯.0], [▯.0, ▯.0]] #Points on the path\n",
    "angles = [▯,▯,▯,▯,▯] #Angel on these points\n",
    "\n",
    "######################################\n",
    "v_w = 0.1 #Linear Velocity in World coordinates\n",
    "interval = 50 #Intervall (default 50)\n",
    "\n",
    "\n",
    "#save wheel speed to file         \n",
    "csv_file = pathInterpolator(points, angles, v_w, interval = 50) #Change interval, robot speed and the vel_ramp time here\n",
    "if(csv_file == -1):\n",
    "    print(f\"The Number or Points and Angels given are not equal, please correct and try again!\")\n",
    "elif(csv_file == -2):\n",
    "    print(f\"At least one value of the velocity or acceleration ist 0 or negativ, please correct and try again!\")\n",
    "else:\n",
    "    try:\n",
    "        file = open(\".\\path_planner.csv\", 'w')\n",
    "    \n",
    "        with file:\n",
    "            writer = csv.writer(file)\n",
    "    \n",
    "            for row in csv_file:\n",
    "                writer.writerow(row)\n",
    "        print(\"Wrote CSV file succesfully to .\\path_planner.csv\")\n",
    "        \n",
    "    except IOError as e:\n",
    "        print(f\"Couldn't write to file ({e})\") # py3 f-strings\n",
    "    finally:\n",
    "        if file: file.close()   "
   ]
  }
 ],
 "metadata": {
  "kernelspec": {
   "display_name": "Python 3 (ipykernel)",
   "language": "python",
   "name": "python3"
  },
  "language_info": {
   "codemirror_mode": {
    "name": "ipython",
    "version": 3
   },
   "file_extension": ".py",
   "mimetype": "text/x-python",
   "name": "python",
   "nbconvert_exporter": "python",
   "pygments_lexer": "ipython3",
   "version": "3.9.10"
  }
 },
 "nbformat": 4,
 "nbformat_minor": 5
}
